{
 "cells": [
  {
   "cell_type": "markdown",
   "id": "beba4eb4",
   "metadata": {},
   "source": [
    "\n",
    "## ESO-SKA synergies\n",
    "\n",
    "This notebook is where I undertake calculations for surveys that are relevant for the ESO/SKA synergies white paper. I will also try to automatically produce my tables.\n",
    "\n",
    "WALLABY & ASKAP & None & Dec $<$ 30\\dg & 30.0 & 1.28 & 8.3e+18 & None \\\\\n",
    "\n",
    "ALFALFA & Arecibo & 7000.0 deg & 0\\dg $<$ Dec $<$36 & 210.0 & 2.30 & 3.0e+17 & None \\\\\n",
    "\n",
    "CRAFTS & FAST & None & None & 180.0 & 1.59 & 2.9e+17 & None \\\\\n",
    "\n",
    "WALLABY reference: \n",
    "\n",
    "\n",
    "\n",
    "Can I update my code to also include reference info, writing to table footnotes?\n",
    "\n",
    "For now, will just manually track references:\n",
    "- WALLABY: 2020Ap&SS.365..118K, https://wallaby-survey.org/overview/ (updates)\n",
    "- ALFALFA: 2018ApJ...861...49H\n",
    "- CRAFTS: 2019SCPMA..6259506Z\n",
    "- FASHI: https://arxiv.org/pdf/2312.06097.pdf\n",
    "- MHONGOOSE: Blok+ submitted\n",
    "- Fornax: 2023A&A...673A.146S\n",
    "- MIGHTEE: https://ui.adsabs.harvard.edu/abs/2021A%26A...646A..35M/abstract, Heywood+ in prep\n",
    "- CHILES: https://ui.adsabs.harvard.edu/abs/2022AJ....163...59D/abstract\n",
    "- LADUMA: https://pos.sissa.it/277/004/pdf\n",
    "- DINGO: https://dingo-survey.org/survey-design/, https://ui.adsabs.harvard.edu/abs/2023MNRAS.518.4646R/abstract\n",
    "- catz1: https://ui.adsabs.harvard.edu/abs/2022ApJ...937..103C/abstract\n",
    "- FLASH: https://ui.adsabs.harvard.edu/abs/2022PASA...39...10A/abstract\n",
    "- MALS: https://ui.adsabs.harvard.edu/abs/2016mks..confE..14G/abstract, https://ui.adsabs.harvard.edu/abs/2023arXiv230812347D/abstract, "
   ]
  },
  {
   "cell_type": "code",
   "execution_count": 1,
   "id": "39331752",
   "metadata": {},
   "outputs": [],
   "source": [
    "import astropy.units as u\n",
    "from modules.survey import Survey, Survey_Collection\n",
    "import numpy as np"
   ]
  },
  {
   "cell_type": "code",
   "execution_count": 2,
   "id": "ca02c83b",
   "metadata": {},
   "outputs": [],
   "source": [
    "# define surveys\n",
    "wallaby = Survey(name='WALLABY', facility = 'ASKAP', beam=30*u.arcsec, rms = 0.7*u.mJy, chan_size = 100*u.kHz,\n",
    "                target = 'Dec $<$ 15\\dg', redshifts = '$< 0.1$', sky_coverage = 14000*u.deg*u.deg,\n",
    "                references = [r'\\cite{2020Ap&SS.365..118K}', \n",
    "                              r'\\url{https://wallaby-survey.org/overview}']\n",
    "                ) \n",
    "\n",
    "alfalfa = Survey(name='ALFALFA', facility='Arecibo', beam=210*u.arcsec, rms = 1.85*u.mJy, chan_size = 50*u.kHz,\n",
    "                target = '0\\dg $<$ Dec $<$36', sky_coverage = 7000*u.deg*u.deg, redshifts = '$< 0.06$',\n",
    "                references = r'\\cite{2018ApJ...861...49H}'\n",
    "                )\n",
    "\n",
    "#crafts = Survey(name='CRAFTS', facility='FAST', beam=180*u.arcsec, rms=0.67*u.mJy, chan_size=50*u.kHz,\n",
    "#             target = '-14\\dg $<$ Dec $<$66', redshifts = '$z < 0.35$', sky_coverage = 22000*u.deg*u.deg)\n",
    "\n",
    "fashi = Survey(name='FASHI', facility='FAST', target = '-14\\dg $<$ Dec $<$66', redshifts = '$< 0.35$', \n",
    "               rms=0.76*u.mJy, chan_size = 30.516*u.kHz,\n",
    "              beam = 2.9*u.arcmin, sky_coverage = 22000*u.deg*u.deg,\n",
    "              references = r'\\cite{2023arXiv231206097Z}')\n",
    "\n",
    "\n",
    "mhongoose_high = Survey(name='MHONGOOSE', facility='MeerKAT', target = 'nearby galaxies', rms = 0.2*u.mJy,\n",
    "                  beam = 8*u.arcsec, chan_size = 1.4*u.km/u.s, sky_coverage = np.nan*u.deg*u.deg,\n",
    "                       references = 'Blok et al., submitted', redshifts = '$\\sim 0')\n",
    "\n",
    "mhongoose_low = Survey(name='MHONGOOSE', facility='MeerKAT', target = 'nearby galaxies', rms = 0.3*u.mJy,\n",
    "                  beam = 90*u.arcsec, chan_size = 1.4*u.km/u.s, sky_coverage = np.nan*u.deg*u.deg)\n",
    "\n",
    "fornax_high = Survey(name='Fornax', facility='MeerKAT', target='Fornax', sky_coverage = 12*u.deg*u.deg,\n",
    "                    beam = 11*u.arcsec, rms = 0.3*u.mJy, chan_size = 1.4*u.km/u.s,\n",
    "                    references = r'\\cite{2023A&A...673A.146S}')\n",
    "\n",
    "fornax_low = Survey(name='Fornax', facility='MeerKAT', target='Fornax', sky_coverage = 12*u.deg*u.deg,\n",
    "                    beam = 98*u.arcsec, rms = 0.37*u.mJy, chan_size = 1.4*u.km/u.s)\n",
    "\n",
    "mightee = Survey(name='MIGHTEE', facility='MeerKAT', target='deep fields', sky_coverage=20*u.deg*u.deg,\n",
    "                rms = 0.1*u.mJy, chan_size = 26*u.kHz, beam=12*u.arcsec, redshifts = '$<0.58$',\n",
    "                references = ['r\\cite{2021A&A...646A..35M}', 'Heywood et al., in prep'])\n",
    "\n",
    "chiles = Survey(name='CHILES', facility='VLA', target='COSMOS', redshifts='$<0.5$', rms=50*u.uJy, \n",
    "                chan_size=250*u.kHz, beam=7*u.arcsec, sky_coverage = np.nan*u.deg*u.deg,\n",
    "               references = r'\\cite{2022AJ....163...59D}')\n",
    "\n",
    "laduma = Survey(name='LADUMA', facility='MeerKAT', target='CDFS', sky_coverage = 2*u.deg*u.deg,\n",
    "               redshifts = '$<1.45$', beam= np.nan * u.arcsec, rms = np.nan*u.mJy, chan_size = np.nan*u.kHz,\n",
    "               references = r'\\cite{2016mks..confE...4B}')\n",
    "\n",
    "dingo = Survey(name='DINGO', facility='ASKAP', target='GAMA G23', redshifts = '$<0.1$, $0.25-0.4$',\n",
    "              sky_coverage = 60*u.deg*u.deg, rms=np.nan*u.mJy, beam = np.nan*u.arcsec, chan_size = np.nan*u.kHz,\n",
    "              references = [r'\\cite{2023MNRAS.518.4646R}', r'\\url{https://dingo-survey.org/survey-design/}'])\n",
    "\n",
    "catz1 = Survey(name='CATz1', facility='GMRT', target='DEEP2', redshifts='$0.74-1.45$',\n",
    "              sky_coverage = 2*u.deg*u.deg, beam = 6*u.arcsec, chan_size = 48.8*u.kHz, rms = np.nan*u.mJy,\n",
    "              references = r'\\cite{2022ApJ...937..103C}')\n",
    "\n",
    "flash = Survey(name='FLASH', facility='ASKAP', sky_coverage=34000*u.deg*u.deg, redshifts = '$0.4-1.0$',\n",
    "              chan_size = 18.5*u.kHz, rms = 4*u.mJy, target = 'Dec $<$ 40\\dg', beam=30*u.arcsec,\n",
    "              references = [r'\\cite{2022PASA...39...10A}', r'\\cite{2022MNRAS.516.2947S}'])\n",
    "\n",
    "mals = Survey(name='MALS', facility='MeerKAT', target = 'continuum sources', redshifts = '$<1.44$',\n",
    "             chan_size=26.2*u.km/u.s, rms = 0.5*u.mJy, beam = 10*u.arcsec,sky_coverage = np.nan*u.deg*u.deg,\n",
    "             references = [r'\\cite{2016mks..confE..14G}', r'\\cite{2023arXiv230812347D}'])"
   ]
  },
  {
   "cell_type": "code",
   "execution_count": 3,
   "id": "ef6c3c3e",
   "metadata": {},
   "outputs": [],
   "source": [
    "HI_Surveys = Survey_Collection([wallaby, alfalfa,fashi, mhongoose_high, mhongoose_low,\n",
    "                                fornax_high, fornax_low, mightee, chiles, laduma, dingo,\n",
    "                               catz1, flash, mals],\n",
    "                              common_spec_res = 18*u.km / u.s)"
   ]
  },
  {
   "cell_type": "code",
   "execution_count": 4,
   "id": "4aaaf9f3",
   "metadata": {},
   "outputs": [],
   "source": [
    "HI_Surveys.survey_table"
   ]
  },
  {
   "cell_type": "code",
   "execution_count": 5,
   "id": "c2b71524",
   "metadata": {},
   "outputs": [],
   "source": [
    "HI_Surveys.write_latex_table()"
   ]
  },
  {
   "cell_type": "code",
   "execution_count": null,
   "id": "60730446",
   "metadata": {},
   "outputs": [],
   "source": []
  }
 ],
 "metadata": {
  "kernelspec": {
   "display_name": "Python 3 (ipykernel)",
   "language": "python",
   "name": "python3"
  },
  "language_info": {
   "codemirror_mode": {
    "name": "ipython",
    "version": 3
   },
   "file_extension": ".py",
   "mimetype": "text/x-python",
   "name": "python",
   "nbconvert_exporter": "python",
   "pygments_lexer": "ipython3",
   "version": "3.11.2"
  }
 },
 "nbformat": 4,
 "nbformat_minor": 5
}
