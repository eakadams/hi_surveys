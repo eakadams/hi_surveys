{
 "cells": [
  {
   "cell_type": "markdown",
   "id": "beba4eb4",
   "metadata": {},
   "source": [
    "\n",
    "## ESO-SKA synergies\n",
    "\n",
    "This notebook is where I undertake calculations for surveys that are relevant for the ESO/SKA synergies white paper. I will also try to automatically produce my tables.\n",
    "\n",
    "WALLABY & ASKAP & None & Dec $<$ 30\\dg & 30.0 & 1.28 & 8.3e+18 & None \\\\\n",
    "\n",
    "ALFALFA & Arecibo & 7000.0 deg & 0\\dg $<$ Dec $<$36 & 210.0 & 2.30 & 3.0e+17 & None \\\\\n",
    "\n",
    "CRAFTS & FAST & None & None & 180.0 & 1.59 & 2.9e+17 & None \\\\\n",
    "\n",
    "WALLABY reference: \n",
    "\n",
    "\n",
    "\n",
    "Can I update my code to also include reference info, writing to table footnotes?\n",
    "\n",
    "For now, will just manually track references:\n",
    "- WALLABY: 2020Ap&SS.365..118K, https://wallaby-survey.org/overview/ (updates)\n",
    "- ALFALFA: 2018ApJ...861...49H\n",
    "- CRAFTS: 2019SCPMA..6259506Z\n",
    "- FASHI: https://arxiv.org/pdf/2312.06097.pdf\n",
    "- MHONGOOSE: Blok+ submitted\n",
    "- Fornax: 2023A&A...673A.146S\n",
    "- MIGHTEE: https://ui.adsabs.harvard.edu/abs/2021A%26A...646A..35M/abstract, Heywood+ in prep\n",
    "- CHILES: https://ui.adsabs.harvard.edu/abs/2022AJ....163...59D/abstract\n",
    "- LADUMA: https://pos.sissa.it/277/004/pdf\n",
    "- DINGO: https://dingo-survey.org/survey-design/, https://ui.adsabs.harvard.edu/abs/2023MNRAS.518.4646R/abstract\n",
    "- catz1: https://ui.adsabs.harvard.edu/abs/2022ApJ...937..103C/abstract\n",
    "- FLASH: https://ui.adsabs.harvard.edu/abs/2022PASA...39...10A/abstract\n",
    "- MALS: https://ui.adsabs.harvard.edu/abs/2016mks..confE..14G/abstract, https://ui.adsabs.harvard.edu/abs/2023arXiv230812347D/abstract, "
   ]
  },
  {
   "cell_type": "code",
   "execution_count": 1,
   "id": "39331752",
   "metadata": {},
   "outputs": [],
   "source": [
    "import astropy.units as u\n",
    "from modules.survey import Survey, Survey_Collection\n",
    "import numpy as np"
   ]
  },
  {
   "cell_type": "code",
   "execution_count": 2,
   "id": "ca02c83b",
   "metadata": {},
   "outputs": [],
   "source": [
    "# define surveys\n",
    "wallaby = Survey(name='WALLABY', facility = 'ASKAP', beam=30*u.arcsec, rms = 0.7*u.mJy, chan_size = 100*u.kHz,\n",
    "                target = 'Dec $<$ 15\\dg', redshifts = '$< 0.1$', sky_coverage = 14000*u.deg*u.deg,\n",
    "                references = [r'\\cite{2020Ap&SS.365..118K}', \n",
    "                              r'\\url{https://wallaby-survey.org/overview}']\n",
    "                ) \n",
    "\n",
    "alfalfa = Survey(name='ALFALFA', facility='Arecibo', beam=210*u.arcsec, rms = 1.85*u.mJy, chan_size = 50*u.kHz,\n",
    "                target = '0\\dg $<$ Dec $<$36', sky_coverage = 7000*u.deg*u.deg, redshifts = '$< 0.06$',\n",
    "                references = r'\\cite{2018ApJ...861...49H}'\n",
    "                )\n",
    "\n",
    "#crafts = Survey(name='CRAFTS', facility='FAST', beam=180*u.arcsec, rms=0.67*u.mJy, chan_size=50*u.kHz,\n",
    "#             target = '-14\\dg $<$ Dec $<$66', redshifts = '$z < 0.35$', sky_coverage = 22000*u.deg*u.deg)\n",
    "\n",
    "fashi = Survey(name='FASHI', facility='FAST', target = '-14\\dg $<$ Dec $<$66', redshifts = '$< 0.35$', \n",
    "               rms=0.76*u.mJy, chan_size = 30.516*u.kHz,\n",
    "              beam = 2.9*u.arcmin, sky_coverage = 22000*u.deg*u.deg,\n",
    "              references = r'\\cite{2023arXiv231206097Z}')\n",
    "\n",
    "\n",
    "mhongoose_high = Survey(name='MHONGOOSE', facility='MeerKAT', target = 'nearby galaxies', rms = 0.2*u.mJy,\n",
    "                  beam = 8*u.arcsec, chan_size = 1.4*u.km/u.s, sky_coverage = np.nan*u.deg*u.deg,\n",
    "                       references = 'Blok et al., submitted')\n",
    "\n",
    "mhongoose_low = Survey(name='MHONGOOSE', facility='MeerKAT', target = 'nearby galaxies', rms = 0.3*u.mJy,\n",
    "                  beam = 90*u.arcsec, chan_size = 1.4*u.km/u.s, sky_coverage = np.nan*u.deg*u.deg)\n",
    "\n",
    "fornax_high = Survey(name='Fornax', facility='MeerKAT', target='Fornax', sky_coverage = 12*u.deg*u.deg,\n",
    "                    beam = 11*u.arcsec, rms = 0.3*u.mJy, chan_size = 1.4*u.km/u.s,\n",
    "                    references = r'\\cite{2023A&A...673A.146S}')\n",
    "\n",
    "fornax_low = Survey(name='Fornax', facility='MeerKAT', target='Fornax', sky_coverage = 12*u.deg*u.deg,\n",
    "                    beam = 98*u.arcsec, rms = 0.37*u.mJy, chan_size = 1.4*u.km/u.s)\n",
    "\n",
    "mightee = Survey(name='MIGHTEE', facility='MeerKAT', target='deep fields', sky_coverage=20*u.deg*u.deg,\n",
    "                rms = 0.1*u.mJy, chan_size = 26*u.kHz, beam=12*u.arcsec, redshifts = '$<0.58$',\n",
    "                references = ['r\\cite{2021A&A...646A..35M}', 'Heywood et al., in prep'])\n",
    "\n",
    "chiles = Survey(name='CHILES', facility='VLA', target='COSMOS', redshifts='$<0.5$', rms=50*u.uJy, \n",
    "                chan_size=250*u.kHz, beam=7*u.arcsec, sky_coverage = np.nan*u.deg*u.deg,\n",
    "               references = r'\\cite{2022AJ....163...59D}')\n",
    "\n",
    "laduma = Survey(name='LADUMA', facility='MeerKAT', target='CDFS', sky_coverage = 2*u.deg*u.deg,\n",
    "               redshifts = '$<1.45$', beam= np.nan * u.arcsec, rms = np.nan*u.mJy, chan_size = np.nan*u.kHz,\n",
    "               references = r'\\cite{2016mks..confE...4B}')\n",
    "\n",
    "dingo = Survey(name='DINGO', facility='ASKAP', target='GAMA G23', redshifts = '$<0.1$, $0.25-0.4$',\n",
    "              sky_coverage = 60*u.deg*u.deg, rms=np.nan*u.mJy, beam = np.nan*u.arcsec, chan_size = np.nan*u.kHz,\n",
    "              references = [r'\\cite{2023MNRAS.518.4646R}', r'\\url{https://dingo-survey.org/survey-design/}'])\n",
    "\n",
    "catz1 = Survey(name='CATz1', facility='GMRT', target='DEEP2', redshifts='$0.74-1.45$',\n",
    "              sky_coverage = 2*u.deg*u.deg, beam = 6*u.arcsec, chan_size = 48.8*u.kHz, rms = np.nan*u.mJy,\n",
    "              references = r'\\cite{2022ApJ...937..103C}')\n",
    "\n",
    "flash = Survey(name='FLASH', facility='ASKAP', sky_coverage=34000*u.deg*u.deg, redshifts = '$0.4-1.0$',\n",
    "              chan_size = 18.5*u.kHz, rms = 4*u.mJy, target = 'Dec $<$ 40\\dg', beam=30*u.arcsec,\n",
    "              references = [r'\\cite{2022PASA...39...10A}', r'\\cite{2022MNRAS.516.2947S}'])\n",
    "\n",
    "mals = Survey(name='MALS', facility='MeerKAT', target = 'continuum sources', redshifts = '$<1.44$',\n",
    "             chan_size=26.2*u.km/u.s, rms = 0.5*u.mJy, beam = 10*u.arcsec,sky_coverage = np.nan*u.deg*u.deg,\n",
    "             references = [r'\\cite{2016mks..confE..14G}', r'\\cite{2023arXiv230812347D}'])"
   ]
  },
  {
   "cell_type": "code",
   "execution_count": 3,
   "id": "ef6c3c3e",
   "metadata": {},
   "outputs": [
    {
     "name": "stdout",
     "output_type": "stream",
     "text": [
      "1.4 mJy\n",
      "2.616295090390226 mJy\n",
      "0.8396675913717285 mJy\n",
      "Units don't match\n",
      "Checking if they are convertible\n",
      "Not convertible so change desired_res in freq/vel\n",
      "5.276528512728436 km / s\n",
      "0.10301960227186724 mJy\n",
      "Units don't match\n",
      "Checking if they are convertible\n",
      "Not convertible so change desired_res in freq/vel\n",
      "5.276528512728436 km / s\n",
      "0.15452940340780086 mJy\n",
      "Units don't match\n",
      "Checking if they are convertible\n",
      "Not convertible so change desired_res in freq/vel\n",
      "5.276528512728436 km / s\n",
      "0.15452940340780086 mJy\n",
      "Units don't match\n",
      "Checking if they are convertible\n",
      "Not convertible so change desired_res in freq/vel\n",
      "5.276528512728436 km / s\n",
      "0.19058626420295438 mJy\n",
      "0.10198039027185571 mJy\n",
      "158.11388300841898 uJy\n",
      "nan mJy\n",
      "nan mJy\n",
      "nan mJy\n",
      "3.4409301068170506 mJy\n",
      "Units don't match\n",
      "Checking if they are convertible\n",
      "Not convertible so change desired_res in freq/vel\n",
      "5.276528512728436 km / s\n",
      "1.1141572877408756 mJy\n"
     ]
    }
   ],
   "source": [
    "HI_Surveys = Survey_Collection([wallaby, alfalfa,fashi, mhongoose_high, mhongoose_low,\n",
    "                                fornax_high, fornax_low, mightee, chiles, laduma, dingo,\n",
    "                               catz1, flash, mals])"
   ]
  },
  {
   "cell_type": "code",
   "execution_count": 4,
   "id": "4aaaf9f3",
   "metadata": {},
   "outputs": [
    {
     "data": {
      "text/html": [
       "<div><i>QTable length=14</i>\n",
       "<table id=\"table4506547792\" class=\"table-striped table-bordered table-condensed\">\n",
       "<thead><tr><th>survey</th><th>facility</th><th>coverage</th><th>targets</th><th>beam</th><th>rms</th><th>nhi</th><th>redshifts</th><th>references</th></tr></thead>\n",
       "<thead><tr><th></th><th></th><th>deg2</th><th></th><th>arcsec</th><th>mJy</th><th>1 / cm2</th><th></th><th></th></tr></thead>\n",
       "<thead><tr><th>str9</th><th>str7</th><th>float64</th><th>str20</th><th>float64</th><th>float64</th><th>float64</th><th>object</th><th>object</th></tr></thead>\n",
       "<tr><td>WALLABY</td><td>ASKAP</td><td>14000.0</td><td>Dec $&lt;$ 15\\dg</td><td>30.0</td><td>1.4</td><td>9.063785373161509e+18</td><td>$&lt; 0.1$</td><td>[&apos;a&apos;, &apos;b&apos;]</td></tr>\n",
       "<tr><td>ALFALFA</td><td>Arecibo</td><td>7000.0</td><td>0\\dg $&lt;$ Dec $&lt;$36</td><td>210.0</td><td>2.616295090390226</td><td>3.4567838443372006e+17</td><td>$&lt; 0.06$</td><td>c</td></tr>\n",
       "<tr><td>FASHI</td><td>FAST</td><td>22000.0</td><td>-14\\dg $&lt;$ Dec $&lt;$66</td><td>174.0</td><td>0.8396675913717285</td><td>1.6159688366300384e+17</td><td>$&lt; 0.35$</td><td>d</td></tr>\n",
       "<tr><td>MHONGOOSE</td><td>MeerKAT</td><td>nan</td><td>nearby galaxies</td><td>8.0</td><td>0.10301960227186724</td><td>9.379160801323655e+18</td><td>None</td><td>e</td></tr>\n",
       "<tr><td>MHONGOOSE</td><td>MeerKAT</td><td>nan</td><td>nearby galaxies</td><td>90.0</td><td>0.15452940340780086</td><td>1.1116042431198411e+17</td><td>None</td><td>None</td></tr>\n",
       "<tr><td>Fornax</td><td>MeerKAT</td><td>12.0</td><td>Fornax</td><td>11.0</td><td>0.15452940340780086</td><td>7.441317660554308e+18</td><td>None</td><td>f</td></tr>\n",
       "<tr><td>Fornax</td><td>MeerKAT</td><td>12.0</td><td>Fornax</td><td>98.0</td><td>0.19058626420295438</td><td>1.1562813815875896e+17</td><td>None</td><td>None</td></tr>\n",
       "<tr><td>MIGHTEE</td><td>MeerKAT</td><td>20.0</td><td>deep fields</td><td>12.0</td><td>0.10198039027185571</td><td>4.126465936139946e+18</td><td>$&lt;0.58$</td><td>[&apos;g&apos;, &apos;h&apos;]</td></tr>\n",
       "<tr><td>CHILES</td><td>VLA</td><td>nan</td><td>COSMOS</td><td>7.0</td><td>0.15811388300841897</td><td>1.8801738631121424e+19</td><td>$&lt;0.5$</td><td>i</td></tr>\n",
       "<tr><td>LADUMA</td><td>MeerKAT</td><td>2.0</td><td>CDFS</td><td>nan</td><td>nan</td><td>nan</td><td>$&lt;1.45$</td><td>j</td></tr>\n",
       "<tr><td>DINGO</td><td>ASKAP</td><td>60.0</td><td>GAMA G23</td><td>nan</td><td>nan</td><td>nan</td><td>$&lt;0.1$, $0.25-0.4$</td><td>[&apos;k&apos;, &apos;l&apos;]</td></tr>\n",
       "<tr><td>CATz1</td><td>GMRT</td><td>2.0</td><td>DEEP2</td><td>6.0</td><td>nan</td><td>nan</td><td>$0.74-1.45$</td><td>m</td></tr>\n",
       "<tr><td>FLASH</td><td>ASKAP</td><td>34000.0</td><td>Dec $&lt;$ 40\\dg</td><td>30.0</td><td>3.4409301068170506</td><td>2.2277037123028177e+19</td><td>$0.4-1.0$</td><td>[&apos;n&apos;, &apos;o&apos;]</td></tr>\n",
       "<tr><td>MALS</td><td>MeerKAT</td><td>nan</td><td>continuum sources</td><td>10.0</td><td>1.1141572877408756</td><td>6.491881625160242e+19</td><td>$&lt;1.44$</td><td>[&apos;p&apos;, &apos;q&apos;]</td></tr>\n",
       "</table></div>"
      ],
      "text/plain": [
       "<QTable length=14>\n",
       "  survey  facility coverage       targets        ...          nhi               redshifts      references\n",
       "                     deg2                        ...        1 / cm2                                      \n",
       "   str9     str7   float64         str20         ...        float64               object         object  \n",
       "--------- -------- -------- -------------------- ... ---------------------- ------------------ ----------\n",
       "  WALLABY    ASKAP  14000.0        Dec $<$ 15\\dg ...  9.063785373161509e+18            $< 0.1$ ['a', 'b']\n",
       "  ALFALFA  Arecibo   7000.0   0\\dg $<$ Dec $<$36 ... 3.4567838443372006e+17           $< 0.06$          c\n",
       "    FASHI     FAST  22000.0 -14\\dg $<$ Dec $<$66 ... 1.6159688366300384e+17           $< 0.35$          d\n",
       "MHONGOOSE  MeerKAT      nan      nearby galaxies ...  9.379160801323655e+18               None          e\n",
       "MHONGOOSE  MeerKAT      nan      nearby galaxies ... 1.1116042431198411e+17               None       None\n",
       "   Fornax  MeerKAT     12.0               Fornax ...  7.441317660554308e+18               None          f\n",
       "   Fornax  MeerKAT     12.0               Fornax ... 1.1562813815875896e+17               None       None\n",
       "  MIGHTEE  MeerKAT     20.0          deep fields ...  4.126465936139946e+18            $<0.58$ ['g', 'h']\n",
       "   CHILES      VLA      nan               COSMOS ... 1.8801738631121424e+19             $<0.5$          i\n",
       "   LADUMA  MeerKAT      2.0                 CDFS ...                    nan            $<1.45$          j\n",
       "    DINGO    ASKAP     60.0             GAMA G23 ...                    nan $<0.1$, $0.25-0.4$ ['k', 'l']\n",
       "    CATz1     GMRT      2.0                DEEP2 ...                    nan        $0.74-1.45$          m\n",
       "    FLASH    ASKAP  34000.0        Dec $<$ 40\\dg ... 2.2277037123028177e+19          $0.4-1.0$ ['n', 'o']\n",
       "     MALS  MeerKAT      nan    continuum sources ...  6.491881625160242e+19            $<1.44$ ['p', 'q']"
      ]
     },
     "execution_count": 4,
     "metadata": {},
     "output_type": "execute_result"
    }
   ],
   "source": [
    "HI_Surveys.survey_table"
   ]
  },
  {
   "cell_type": "code",
   "execution_count": 5,
   "id": "c2b71524",
   "metadata": {},
   "outputs": [],
   "source": [
    "HI_Surveys.write_latex_table()"
   ]
  },
  {
   "cell_type": "code",
   "execution_count": null,
   "id": "60730446",
   "metadata": {},
   "outputs": [],
   "source": []
  }
 ],
 "metadata": {
  "kernelspec": {
   "display_name": "Python 3 (ipykernel)",
   "language": "python",
   "name": "python3"
  },
  "language_info": {
   "codemirror_mode": {
    "name": "ipython",
    "version": 3
   },
   "file_extension": ".py",
   "mimetype": "text/x-python",
   "name": "python",
   "nbconvert_exporter": "python",
   "pygments_lexer": "ipython3",
   "version": "3.11.2"
  }
 },
 "nbformat": 4,
 "nbformat_minor": 5
}
