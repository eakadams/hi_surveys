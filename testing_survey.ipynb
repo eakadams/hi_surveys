{
 "cells": [
  {
   "cell_type": "markdown",
   "id": "af06e356",
   "metadata": {},
   "source": [
    "## Test Survey Class\n",
    "\n",
    "This notebook is where I tested/developed the Survey class object. This was designed for the ESO-SKA synergies white paper, but I tried to write it more broadly in case it is useful in the future"
   ]
  },
  {
   "cell_type": "code",
   "execution_count": 1,
   "id": "97e1f4b3",
   "metadata": {},
   "outputs": [],
   "source": [
    "import numpy as np\n",
    "import astropy.units as u\n",
    "import modules.functions as func\n",
    "from modules.survey import Survey, Survey_Collection"
   ]
  },
  {
   "cell_type": "code",
   "execution_count": 2,
   "id": "b1e4b409",
   "metadata": {},
   "outputs": [],
   "source": [
    "test_survey = Survey(name='test', beam=13*u.arcsec, rms = 2.3*u.mJy, chan_size = 7.7*u.kHz)"
   ]
  },
  {
   "cell_type": "code",
   "execution_count": 3,
   "id": "34bec68c",
   "metadata": {},
   "outputs": [
    {
     "data": {
      "text/latex": [
       "$2.4423952 \\times 10^{19} \\; \\mathrm{\\frac{1}{cm^{2}}}$"
      ],
      "text/plain": [
       "<Quantity 2.44239518e+19 1 / cm2>"
      ]
     },
     "execution_count": 3,
     "metadata": {},
     "output_type": "execute_result"
    }
   ],
   "source": [
    "test_survey.nhi"
   ]
  },
  {
   "cell_type": "code",
   "execution_count": 4,
   "id": "d59cd9dd",
   "metadata": {},
   "outputs": [
    {
     "name": "stdout",
     "output_type": "stream",
     "text": [
      "Units don't match\n",
      "Checking if they are convertible\n",
      "Not convertible so change desired_res in freq/vel\n",
      "Not frequency unit, presuming velocity\n",
      "85.28334470634036 kHz\n",
      "0.6911003077333795 mJy\n"
     ]
    }
   ],
   "source": [
    "test_survey.change_spec_res(18*u.km/u.s)"
   ]
  },
  {
   "cell_type": "code",
   "execution_count": 5,
   "id": "eb1a2809",
   "metadata": {},
   "outputs": [
    {
     "data": {
      "text/latex": [
       "$8.1283554 \\times 10^{19} \\; \\mathrm{\\frac{1}{cm^{2}}}$"
      ],
      "text/plain": [
       "<Quantity 8.1283554e+19 1 / cm2>"
      ]
     },
     "execution_count": 5,
     "metadata": {},
     "output_type": "execute_result"
    }
   ],
   "source": [
    "test_survey.nhi"
   ]
  },
  {
   "cell_type": "code",
   "execution_count": 6,
   "id": "907c8b28",
   "metadata": {},
   "outputs": [
    {
     "name": "stdout",
     "output_type": "stream",
     "text": [
      "Not frequency unit, presuming velocity\n"
     ]
    },
    {
     "data": {
      "text/latex": [
       "$85.283345 \\; \\mathrm{kHz}$"
      ],
      "text/plain": [
       "<Quantity 85.28334471 kHz>"
      ]
     },
     "execution_count": 6,
     "metadata": {},
     "output_type": "execute_result"
    }
   ],
   "source": [
    "func.convert_chan_freq_vel(test_survey.chan_size).to(u.kHz)"
   ]
  },
  {
   "cell_type": "code",
   "execution_count": 7,
   "id": "66638374",
   "metadata": {},
   "outputs": [
    {
     "data": {
      "text/latex": [
       "$0.69110031 \\; \\mathrm{mJy}$"
      ],
      "text/plain": [
       "<Quantity 0.69110031 mJy>"
      ]
     },
     "execution_count": 7,
     "metadata": {},
     "output_type": "execute_result"
    }
   ],
   "source": [
    "test_survey.rms"
   ]
  },
  {
   "cell_type": "code",
   "execution_count": 8,
   "id": "78c4820f",
   "metadata": {},
   "outputs": [
    {
     "data": {
      "text/plain": [
       "modules.survey.Survey"
      ]
     },
     "execution_count": 8,
     "metadata": {},
     "output_type": "execute_result"
    }
   ],
   "source": [
    "Survey"
   ]
  },
  {
   "cell_type": "code",
   "execution_count": 9,
   "id": "5e210028",
   "metadata": {},
   "outputs": [
    {
     "data": {
      "text/plain": [
       "modules.survey.Survey"
      ]
     },
     "execution_count": 9,
     "metadata": {},
     "output_type": "execute_result"
    }
   ],
   "source": [
    "type(test_survey)"
   ]
  },
  {
   "cell_type": "code",
   "execution_count": 10,
   "id": "553ebf64",
   "metadata": {},
   "outputs": [
    {
     "data": {
      "text/plain": [
       "<modules.survey.Survey at 0x1124da190>"
      ]
     },
     "execution_count": 10,
     "metadata": {},
     "output_type": "execute_result"
    }
   ],
   "source": [
    "test_survey"
   ]
  },
  {
   "cell_type": "code",
   "execution_count": 12,
   "id": "5319987f",
   "metadata": {},
   "outputs": [],
   "source": [
    "# Note - numbers aren't correct, can't get overleaf to load\n",
    "# Just playing with table formatting for now to figure out how to do that\n",
    "wallaby = Survey(name='WALLABY', facility = 'ASKAP', beam=30*u.arcsec, rms = 2.3*u.mJy, chan_size = 7.7*u.kHz,\n",
    "                target = 'Dec $<$ 30\\dg') \n",
    "alfalfa = Survey(name='ALFALFA', facility='Arecibo', beam=210*u.arcsec, rms = 2.3*u.mJy, chan_size = 25*u.kHz,\n",
    "                target = '0\\dg $<$ Dec $<$36', sky_coverage = 7000*u.deg)\n",
    "fast = Survey(name='CRAFTS', facility='FAST', beam=180*u.arcsec, rms=2.3*u.mJy, chan_size=12*u.kHz)\n",
    "\n"
   ]
  },
  {
   "cell_type": "code",
   "execution_count": 13,
   "id": "e6551b9d",
   "metadata": {},
   "outputs": [
    {
     "name": "stdout",
     "output_type": "stream",
     "text": [
      "test - can i default false?\n"
     ]
    },
    {
     "name": "stderr",
     "output_type": "stream",
     "text": [
      "WARNING: AstropyDeprecationWarning: The truth value of a Quantity is ambiguous. In the future this will raise a ValueError. [astropy.units.quantity]\n"
     ]
    }
   ],
   "source": [
    "if 25*u.kHz:\n",
    "    print('test - can i default false?')"
   ]
  },
  {
   "cell_type": "code",
   "execution_count": 14,
   "id": "1b77b79a",
   "metadata": {},
   "outputs": [
    {
     "data": {
      "text/latex": [
       "$4.5862754 \\times 10^{18} \\; \\mathrm{\\frac{1}{cm^{2}}}$"
      ],
      "text/plain": [
       "<Quantity 4.5862754e+18 1 / cm2>"
      ]
     },
     "execution_count": 14,
     "metadata": {},
     "output_type": "execute_result"
    }
   ],
   "source": [
    "wallaby.nhi"
   ]
  },
  {
   "cell_type": "code",
   "execution_count": 15,
   "id": "fd3e2b5c",
   "metadata": {},
   "outputs": [
    {
     "name": "stdout",
     "output_type": "stream",
     "text": [
      "1.2764481971470678 mJy\n",
      "2.3 mJy\n",
      "1.593486742963367 mJy\n"
     ]
    }
   ],
   "source": [
    "HI_Surveys = Survey_Collection([wallaby, alfalfa, fast])"
   ]
  },
  {
   "cell_type": "code",
   "execution_count": 16,
   "id": "e2dda4c2",
   "metadata": {},
   "outputs": [
    {
     "data": {
      "text/html": [
       "<div><i>QTable length=3</i>\n",
       "<table id=\"table4637395536\" class=\"table-striped table-bordered table-condensed\">\n",
       "<thead><tr><th>survey</th><th>facility</th><th>coverage</th><th>targets</th><th>beam</th><th>rms</th><th>nhi</th><th>redshifts</th></tr></thead>\n",
       "<thead><tr><th></th><th></th><th></th><th></th><th>arcsec</th><th>mJy</th><th>1 / cm2</th><th></th></tr></thead>\n",
       "<thead><tr><th>str7</th><th>str7</th><th>object</th><th>object</th><th>float64</th><th>float64</th><th>float64</th><th>object</th></tr></thead>\n",
       "<tr><td>WALLABY</td><td>ASKAP</td><td>None</td><td>Dec $&lt;$ 30\\dg</td><td>30.0</td><td>1.2764481971470678</td><td>8.26389464207141e+18</td><td>None</td></tr>\n",
       "<tr><td>ALFALFA</td><td>Arecibo</td><td>7000.0 deg</td><td>0\\dg $&lt;$ Dec $&lt;$36</td><td>210.0</td><td>2.3</td><td>3.038878477882138e+17</td><td>None</td></tr>\n",
       "<tr><td>CRAFTS</td><td>FAST</td><td>None</td><td>None</td><td>180.0</td><td>1.593486742963367</td><td>2.865678935158361e+17</td><td>None</td></tr>\n",
       "</table></div>"
      ],
      "text/plain": [
       "<QTable length=3>\n",
       " survey facility  coverage       targets         beam         rms                  nhi          redshifts\n",
       "                                                arcsec        mJy                1 / cm2                 \n",
       "  str7    str7     object         object       float64      float64              float64          object \n",
       "------- -------- ---------- ------------------ ------- ------------------ --------------------- ---------\n",
       "WALLABY    ASKAP       None      Dec $<$ 30\\dg    30.0 1.2764481971470678  8.26389464207141e+18      None\n",
       "ALFALFA  Arecibo 7000.0 deg 0\\dg $<$ Dec $<$36   210.0                2.3 3.038878477882138e+17      None\n",
       " CRAFTS     FAST       None               None   180.0  1.593486742963367 2.865678935158361e+17      None"
      ]
     },
     "execution_count": 16,
     "metadata": {},
     "output_type": "execute_result"
    }
   ],
   "source": [
    "HI_Surveys.survey_table"
   ]
  },
  {
   "cell_type": "code",
   "execution_count": 17,
   "id": "cc42b8eb",
   "metadata": {},
   "outputs": [],
   "source": [
    "HI_Surveys.write_latex_table()"
   ]
  },
  {
   "cell_type": "code",
   "execution_count": 18,
   "id": "853886a6",
   "metadata": {},
   "outputs": [
    {
     "data": {
      "text/latex": [
       "$8.2638946 \\times 10^{18} \\; \\mathrm{\\frac{1}{cm^{2}}}$"
      ],
      "text/plain": [
       "<Quantity 8.26389464e+18 1 / cm2>"
      ]
     },
     "execution_count": 18,
     "metadata": {},
     "output_type": "execute_result"
    }
   ],
   "source": [
    "wallaby.nhi"
   ]
  },
  {
   "cell_type": "code",
   "execution_count": null,
   "id": "987a5697",
   "metadata": {},
   "outputs": [],
   "source": []
  }
 ],
 "metadata": {
  "kernelspec": {
   "display_name": "Python 3 (ipykernel)",
   "language": "python",
   "name": "python3"
  },
  "language_info": {
   "codemirror_mode": {
    "name": "ipython",
    "version": 3
   },
   "file_extension": ".py",
   "mimetype": "text/x-python",
   "name": "python",
   "nbconvert_exporter": "python",
   "pygments_lexer": "ipython3",
   "version": "3.11.2"
  }
 },
 "nbformat": 4,
 "nbformat_minor": 5
}
